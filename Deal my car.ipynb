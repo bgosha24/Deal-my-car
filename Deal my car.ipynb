{
 "cells": [
  {
   "cell_type": "markdown",
   "id": "3731d241",
   "metadata": {},
   "source": [
    "# Welcome to Deal my car!  An application that predicts how much a dealership would sell your car for once you trade it in.\n",
    "\n",
    "\n",
    "*Spoiler Alert: It's likely way more than you bought it for!*\n",
    "\n",
    "\n",
    "\n",
    "\n",
    "\n",
    "\n",
    "\n",
    "\n",
    "\n"
   ]
  },
  {
   "cell_type": "markdown",
   "id": "c07afbbd",
   "metadata": {},
   "source": [
    "\n",
    "\n",
    "\n",
    "\n",
    "\n",
    "\n",
    "\n",
    "\n",
    "\n",
    "*PRECAUTION*\n",
    "\n",
    "**Please make sure you download these files from github and they reside in your current working directory**\n",
    "\n",
    "https://github.com/bgosha24/Deal-my-car/blob/main/ready_for_model_selection.csv\n",
    "\n",
    "https://github.com/bgosha24/Deal-my-car/blob/main/pipe_model.pkl\n",
    "\n",
    "**Then run the cell below as a ready check**"
   ]
  },
  {
   "cell_type": "code",
   "execution_count": 24,
   "id": "20593ae8",
   "metadata": {},
   "outputs": [
    {
     "name": "stdout",
     "output_type": "stream",
     "text": [
      "You are ready! Run the cell below to deal your car.\n"
     ]
    }
   ],
   "source": [
    "import os\n",
    "\n",
    "if 'ready_for_model_selection.csv' and 'pipe_model.pkl' in os.listdir():\n",
    "    print('You are ready! Run the cell below to deal your car.')\n",
    "else:\n",
    "    print('The files are not in your current working directory')"
   ]
  },
  {
   "cell_type": "code",
   "execution_count": 28,
   "id": "9806219b",
   "metadata": {
    "scrolled": true
   },
   "outputs": [
    {
     "name": "stdout",
     "output_type": "stream",
     "text": [
      "What year is your car? Please enter digits only:  \n",
      "2010\n",
      "How many kilometers does your car have on it? Please enter digits only:  \n",
      "150000\n",
      "Which make is your car? \n",
      "Ford\n",
      "Which model is your car? \n",
      "F-150\n",
      "Which body type is your car? Enter one of the following: SUV, Truck, Coupe, Convertible, Sedan, Hatchback, Minivan, Other, WagonTruck\n",
      "What kind of transmission does your car have? Automatic or Manual?automatic\n",
      "What kind of drivetrain does your car have? Enter one of the following: FWD, AWD, RWD, 4x4, Other 4x4\n",
      "\n",
      "\n",
      "UNBELIEVABLE!\n",
      "The slimy dealer would price your car at $17161.04!!! Don't trade it in for anything less!\n"
     ]
    }
   ],
   "source": [
    "import pandas as pd\n",
    "\n",
    "import joblib\n",
    "df = pd.read_csv('ready_for_model_selection.csv')\n",
    "pipe_model = joblib.load('pipe_model.pkl')\n",
    "\n",
    "def year_input():\n",
    "    year = []\n",
    "    while year not in range(1972,2024):\n",
    "        try:\n",
    "            year = int(input('What year is your car? Please enter digits only:  \\n'))\n",
    "        except ValueError:\n",
    "            print('Please try again. Your response must be numeric and between 1972-2023: \\n') \n",
    "    return year        \n",
    "\n",
    "def odometer_input():\n",
    "    odometer = []\n",
    "    while odometer not in range(900000):\n",
    "        try:\n",
    "            odometer = int(input('How many kilometers does your car have on it? Please enter digits only:  \\n'))\n",
    "        except ValueError:\n",
    "            print('Please try again. Your response must be numeric: \\n')\n",
    "    return odometer\n",
    "\n",
    "def make_input():\n",
    "    make = ''\n",
    "    while not make in list(df.make.str.lower().unique()):\n",
    "        make = input('Which make is your car? \\n').lower()    \n",
    "    return make.capitalize()\n",
    "\n",
    "def model_input():\n",
    "    model = ''\n",
    "    while not model in list(df.model.str.lower().unique()):\n",
    "        model = input('Which model is your car? \\n').lower()    \n",
    "    return model.capitalize()\n",
    "\n",
    "\n",
    "\n",
    "def bodytype_input():\n",
    "    bodytype = ''\n",
    "    while not bodytype in list(df.bodytype.str.lower().unique()):\n",
    "        bodytype = input('Which body type is your car? Enter one of the following: SUV, Truck, Coupe, Convertible, Sedan, Hatchback, Minivan, Other, Wagon').lower()\n",
    "    return bodytype.capitalize()\n",
    "\n",
    "def transmission_input():\n",
    "    transmission = ''\n",
    "    while not transmission in list(df.transmission.str.lower().unique()):\n",
    "        transmission = input('What kind of transmission does your car have? Automatic or Manual?').lower()\n",
    "    return transmission.capitalize()\n",
    "\n",
    "\n",
    "def drivetrain_input():\n",
    "    drivetrain = ''\n",
    "    while not drivetrain in df.drivetrain.str.lower().unique():\n",
    "        drivetrain = input('What kind of drivetrain does your car have? Enter one of the following: FWD, AWD, RWD, 4x4, Other ').lower()\n",
    "    return drivetrain.lower()\n",
    "\n",
    "year = year_input()\n",
    "odometer = odometer_input()\n",
    "make = make_input()\n",
    "model = model_input()\n",
    "bodytype = bodytype_input()\n",
    "transmission = transmission_input()\n",
    "drivetrain = drivetrain_input()\n",
    "age = 2023-year\n",
    "\n",
    "\n",
    "prediction = pd.DataFrame([[year, make , model, bodytype,transmission ,odometer ,drivetrain,age]], \n",
    "                          columns = ['year','make','model','bodytype','transmission','odometer','drivetrain','age'])\n",
    "\n",
    "print()\n",
    "print()\n",
    "print(\"UNBELIEVABLE!\")\n",
    "print(\"The slimy dealer would price your car at ${}!!! Don't trade it in for anything less!\" .format(pipe_model.predict(prediction)[0]))"
   ]
  },
  {
   "cell_type": "code",
   "execution_count": null,
   "id": "1ecd3bfc",
   "metadata": {},
   "outputs": [],
   "source": []
  }
 ],
 "metadata": {
  "kernelspec": {
   "display_name": "Python 3 (ipykernel)",
   "language": "python",
   "name": "python3"
  },
  "language_info": {
   "codemirror_mode": {
    "name": "ipython",
    "version": 3
   },
   "file_extension": ".py",
   "mimetype": "text/x-python",
   "name": "python",
   "nbconvert_exporter": "python",
   "pygments_lexer": "ipython3",
   "version": "3.9.7"
  }
 },
 "nbformat": 4,
 "nbformat_minor": 5
}
