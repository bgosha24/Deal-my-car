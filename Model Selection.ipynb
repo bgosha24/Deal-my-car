{
 "cells": [
  {
   "cell_type": "code",
   "execution_count": 239,
   "id": "4a1aba25",
   "metadata": {},
   "outputs": [],
   "source": [
    "import pandas as pd\n",
    "import numpy as np\n",
    "import seaborn as sns\n",
    "import os\n",
    "import matplotlib.pyplot as plt\n",
    "from sklearn.model_selection import train_test_split\n",
    "from sklearn.linear_model import LassoCV,LinearRegression\n",
    "from sklearn.ensemble import RandomForestRegressor\n",
    "from sklearn.metrics import r2_score\n",
    "from sklearn.preprocessing import OneHotEncoder\n",
    "from sklearn.compose import make_column_transformer\n",
    "from sklearn.pipeline import make_pipeline\n",
    "import joblib"
   ]
  },
  {
   "cell_type": "code",
   "execution_count": 240,
   "id": "d377ea10",
   "metadata": {},
   "outputs": [
    {
     "data": {
      "text/plain": [
       "['.idea',\n",
       " '.ipynb_checkpoints',\n",
       " 'Deal my car.ipynb',\n",
       " 'EDA.ipynb',\n",
       " 'Model Selection.ipynb',\n",
       " 'pipe_model.pkl',\n",
       " 'ready_for_eda.csv',\n",
       " 'ready_for_feature_extraction.csv',\n",
       " 'ready_for_model_selection.csv',\n",
       " '__pycache__']"
      ]
     },
     "execution_count": 240,
     "metadata": {},
     "output_type": "execute_result"
    }
   ],
   "source": [
    "os.listdir()"
   ]
  },
  {
   "cell_type": "code",
   "execution_count": 241,
   "id": "cfff5b2f",
   "metadata": {},
   "outputs": [],
   "source": [
    "df = pd.read_csv('ready_for_model_selection.csv')"
   ]
  },
  {
   "cell_type": "code",
   "execution_count": null,
   "id": "134a6a90",
   "metadata": {},
   "outputs": [],
   "source": []
  },
  {
   "cell_type": "code",
   "execution_count": 242,
   "id": "1eb567b9",
   "metadata": {},
   "outputs": [],
   "source": [
    "X = df.drop(['price','annual_km'],axis = 1)\n",
    "y = df['price']"
   ]
  },
  {
   "cell_type": "code",
   "execution_count": 243,
   "id": "225e207a",
   "metadata": {},
   "outputs": [],
   "source": [
    "X_train, X_test, y_train, y_test = train_test_split(X, y, test_size=0.1,random_state = 101)"
   ]
  },
  {
   "cell_type": "code",
   "execution_count": 244,
   "id": "fa0e2d19",
   "metadata": {},
   "outputs": [],
   "source": [
    "ohe = OneHotEncoder(handle_unknown = 'ignore')\n"
   ]
  },
  {
   "cell_type": "code",
   "execution_count": 245,
   "id": "28b3dbe3",
   "metadata": {},
   "outputs": [
    {
     "data": {
      "text/plain": [
       "OneHotEncoder(handle_unknown='ignore')"
      ]
     },
     "execution_count": 245,
     "metadata": {},
     "output_type": "execute_result"
    }
   ],
   "source": [
    "ohe.fit(X[['make','model','bodytype','transmission','drivetrain']])"
   ]
  },
  {
   "cell_type": "code",
   "execution_count": 246,
   "id": "77bfc489",
   "metadata": {},
   "outputs": [],
   "source": [
    "column_trans = make_column_transformer((OneHotEncoder(),['make','model','bodytype','transmission','drivetrain']),\n",
    "                                       remainder = 'passthrough')"
   ]
  },
  {
   "cell_type": "code",
   "execution_count": 247,
   "id": "a0ce4b00",
   "metadata": {},
   "outputs": [],
   "source": [
    "lr = LinearRegression()\n",
    "rf= RandomForestRegressor()"
   ]
  },
  {
   "cell_type": "code",
   "execution_count": 248,
   "id": "2119fbfd",
   "metadata": {},
   "outputs": [],
   "source": [
    "pipe = make_pipeline(column_trans, rf)"
   ]
  },
  {
   "cell_type": "code",
   "execution_count": 249,
   "id": "a5e6cbfa",
   "metadata": {},
   "outputs": [
    {
     "data": {
      "text/plain": [
       "Pipeline(steps=[('columntransformer',\n",
       "                 ColumnTransformer(remainder='passthrough',\n",
       "                                   transformers=[('onehotencoder',\n",
       "                                                  OneHotEncoder(),\n",
       "                                                  ['make', 'model', 'bodytype',\n",
       "                                                   'transmission',\n",
       "                                                   'drivetrain'])])),\n",
       "                ('randomforestregressor', RandomForestRegressor())])"
      ]
     },
     "execution_count": 249,
     "metadata": {},
     "output_type": "execute_result"
    }
   ],
   "source": [
    "pipe.fit(X_train,y_train)"
   ]
  },
  {
   "cell_type": "code",
   "execution_count": 250,
   "id": "0c2a5213",
   "metadata": {},
   "outputs": [],
   "source": [
    "y_pred = pipe.predict(X_test)"
   ]
  },
  {
   "cell_type": "code",
   "execution_count": 251,
   "id": "7c2e562a",
   "metadata": {},
   "outputs": [
    {
     "data": {
      "text/plain": [
       "0.8898486274817244"
      ]
     },
     "execution_count": 251,
     "metadata": {},
     "output_type": "execute_result"
    }
   ],
   "source": [
    "r2_score(y_test,y_pred)"
   ]
  },
  {
   "cell_type": "code",
   "execution_count": 253,
   "id": "74fbc3aa",
   "metadata": {},
   "outputs": [
    {
     "data": {
      "text/plain": [
       "array([10485.5])"
      ]
     },
     "execution_count": 253,
     "metadata": {},
     "output_type": "execute_result"
    }
   ],
   "source": [
    "pipe.predict(pd.DataFrame([[1999,'Subaru','Impreza','Wagon','Automatic',170000,'awd',23]], columns = ['year','make','model','bodytype','transmission','odometer','drivetrain','age']))"
   ]
  },
  {
   "cell_type": "code",
   "execution_count": 256,
   "id": "b33ee782",
   "metadata": {},
   "outputs": [
    {
     "data": {
      "text/plain": [
       "Pipeline(steps=[('columntransformer',\n",
       "                 ColumnTransformer(remainder='passthrough',\n",
       "                                   transformers=[('onehotencoder',\n",
       "                                                  OneHotEncoder(),\n",
       "                                                  ['make', 'model', 'bodytype',\n",
       "                                                   'transmission',\n",
       "                                                   'drivetrain'])])),\n",
       "                ('randomforestregressor', RandomForestRegressor())])"
      ]
     },
     "execution_count": 256,
     "metadata": {},
     "output_type": "execute_result"
    }
   ],
   "source": [
    "# now that we know that the model works and has a good r2score we can train it on the whole dataset so that we are able to train it on all makes and models\n",
    "pipe.fit(X,y)\n"
   ]
  },
  {
   "cell_type": "code",
   "execution_count": 257,
   "id": "04ec21a5",
   "metadata": {},
   "outputs": [
    {
     "data": {
      "text/plain": [
       "['pipe_model.pkl']"
      ]
     },
     "execution_count": 257,
     "metadata": {},
     "output_type": "execute_result"
    }
   ],
   "source": [
    "joblib.dump(pipe,'pipe_model.pkl')"
   ]
  },
  {
   "cell_type": "code",
   "execution_count": null,
   "id": "c4413678",
   "metadata": {},
   "outputs": [],
   "source": []
  }
 ],
 "metadata": {
  "kernelspec": {
   "display_name": "Python 3 (ipykernel)",
   "language": "python",
   "name": "python3"
  },
  "language_info": {
   "codemirror_mode": {
    "name": "ipython",
    "version": 3
   },
   "file_extension": ".py",
   "mimetype": "text/x-python",
   "name": "python",
   "nbconvert_exporter": "python",
   "pygments_lexer": "ipython3",
   "version": "3.9.7"
  }
 },
 "nbformat": 4,
 "nbformat_minor": 5
}
