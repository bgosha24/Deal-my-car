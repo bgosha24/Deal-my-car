{
 "cells": [
  {
   "cell_type": "code",
   "execution_count": 95,
   "id": "4a1aba25",
   "metadata": {},
   "outputs": [],
   "source": [
    "import pandas as pd\n",
    "import numpy as np\n",
    "import seaborn as sns\n",
    "import os\n",
    "import matplotlib.pyplot as plt\n",
    "from sklearn.model_selection import train_test_split\n",
    "from sklearn.linear_model import LassoCV,LinearRegression\n",
    "from sklearn.metrics import r2_score\n",
    "from sklearn.preprocessing import OneHotEncoder\n",
    "from sklearn.compose import make_column_transformer\n",
    "from sklearn.pipeline import make_pipeline\n",
    "import joblib"
   ]
  },
  {
   "cell_type": "code",
   "execution_count": 75,
   "id": "d377ea10",
   "metadata": {},
   "outputs": [
    {
     "data": {
      "text/plain": [
       "['.ipynb_checkpoints',\n",
       " 'base_rfr.pkl',\n",
       " 'Car pricing.ipynb',\n",
       " 'Data Cleaning.ipynb',\n",
       " 'dealer_scrape.csv',\n",
       " 'EDA.ipynb',\n",
       " 'Model Selection.ipynb',\n",
       " 'ready_for_eda.csv',\n",
       " 'ready_for_feature_extraction.csv',\n",
       " 'ready_for_model_selection.csv',\n",
       " 'Untitled.ipynb',\n",
       " 'xxxx.csv']"
      ]
     },
     "execution_count": 75,
     "metadata": {},
     "output_type": "execute_result"
    }
   ],
   "source": [
    "os.listdir()"
   ]
  },
  {
   "cell_type": "code",
   "execution_count": 76,
   "id": "cfff5b2f",
   "metadata": {},
   "outputs": [],
   "source": [
    "df = pd.read_csv('ready_for_model_selection.csv')"
   ]
  },
  {
   "cell_type": "code",
   "execution_count": 77,
   "id": "134a6a90",
   "metadata": {},
   "outputs": [
    {
     "data": {
      "text/html": [
       "<div>\n",
       "<style scoped>\n",
       "    .dataframe tbody tr th:only-of-type {\n",
       "        vertical-align: middle;\n",
       "    }\n",
       "\n",
       "    .dataframe tbody tr th {\n",
       "        vertical-align: top;\n",
       "    }\n",
       "\n",
       "    .dataframe thead th {\n",
       "        text-align: right;\n",
       "    }\n",
       "</style>\n",
       "<table border=\"1\" class=\"dataframe\">\n",
       "  <thead>\n",
       "    <tr style=\"text-align: right;\">\n",
       "      <th></th>\n",
       "      <th>price</th>\n",
       "      <th>year</th>\n",
       "      <th>make</th>\n",
       "      <th>model</th>\n",
       "      <th>bodytype</th>\n",
       "      <th>transmission</th>\n",
       "      <th>odometer</th>\n",
       "      <th>drivetrain</th>\n",
       "      <th>age</th>\n",
       "      <th>annual_km</th>\n",
       "    </tr>\n",
       "  </thead>\n",
       "  <tbody>\n",
       "    <tr>\n",
       "      <th>0</th>\n",
       "      <td>57990</td>\n",
       "      <td>2019</td>\n",
       "      <td>Ram</td>\n",
       "      <td>1500</td>\n",
       "      <td>Truck</td>\n",
       "      <td>Automatic</td>\n",
       "      <td>82584</td>\n",
       "      <td>4x4</td>\n",
       "      <td>4</td>\n",
       "      <td>20646</td>\n",
       "    </tr>\n",
       "    <tr>\n",
       "      <th>1</th>\n",
       "      <td>23888</td>\n",
       "      <td>2017</td>\n",
       "      <td>Jeep</td>\n",
       "      <td>Patriot</td>\n",
       "      <td>SUV</td>\n",
       "      <td>Automatic</td>\n",
       "      <td>75934</td>\n",
       "      <td>4x4</td>\n",
       "      <td>6</td>\n",
       "      <td>12655</td>\n",
       "    </tr>\n",
       "  </tbody>\n",
       "</table>\n",
       "</div>"
      ],
      "text/plain": [
       "   price  year  make    model bodytype transmission  odometer drivetrain  age  \\\n",
       "0  57990  2019   Ram     1500    Truck    Automatic     82584        4x4    4   \n",
       "1  23888  2017  Jeep  Patriot      SUV    Automatic     75934        4x4    6   \n",
       "\n",
       "   annual_km  \n",
       "0      20646  \n",
       "1      12655  "
      ]
     },
     "execution_count": 77,
     "metadata": {},
     "output_type": "execute_result"
    }
   ],
   "source": [
    "df.head(2)\n",
    "\n"
   ]
  },
  {
   "cell_type": "code",
   "execution_count": 78,
   "id": "1eb567b9",
   "metadata": {},
   "outputs": [],
   "source": [
    "X = df.drop('price',axis = 1)\n",
    "y = df['price']"
   ]
  },
  {
   "cell_type": "code",
   "execution_count": 79,
   "id": "225e207a",
   "metadata": {},
   "outputs": [],
   "source": [
    "X_train, X_test, y_train, y_test = train_test_split(X, y, test_size=0.1, random_state=101)"
   ]
  },
  {
   "cell_type": "code",
   "execution_count": 80,
   "id": "fa0e2d19",
   "metadata": {},
   "outputs": [],
   "source": [
    "ohe = OneHotEncoder(handle_unknown = 'ignore')\n"
   ]
  },
  {
   "cell_type": "code",
   "execution_count": 81,
   "id": "28b3dbe3",
   "metadata": {},
   "outputs": [
    {
     "data": {
      "text/plain": [
       "OneHotEncoder(handle_unknown='ignore')"
      ]
     },
     "execution_count": 81,
     "metadata": {},
     "output_type": "execute_result"
    }
   ],
   "source": [
    "ohe.fit(X[['make','model','bodytype','transmission','drivetrain']])"
   ]
  },
  {
   "cell_type": "code",
   "execution_count": 82,
   "id": "77bfc489",
   "metadata": {},
   "outputs": [],
   "source": [
    "column_trans = make_column_transformer((OneHotEncoder(),['make','model','bodytype','transmission','drivetrain']),\n",
    "                                       remainder = 'passthrough')"
   ]
  },
  {
   "cell_type": "code",
   "execution_count": 83,
   "id": "a0ce4b00",
   "metadata": {},
   "outputs": [],
   "source": [
    "lr = LinearRegression()"
   ]
  },
  {
   "cell_type": "code",
   "execution_count": 84,
   "id": "2119fbfd",
   "metadata": {},
   "outputs": [],
   "source": [
    "pipe = make_pipeline(column_trans, lr)"
   ]
  },
  {
   "cell_type": "code",
   "execution_count": 85,
   "id": "a5e6cbfa",
   "metadata": {},
   "outputs": [
    {
     "data": {
      "text/plain": [
       "Pipeline(steps=[('columntransformer',\n",
       "                 ColumnTransformer(remainder='passthrough',\n",
       "                                   transformers=[('onehotencoder',\n",
       "                                                  OneHotEncoder(),\n",
       "                                                  ['make', 'model', 'bodytype',\n",
       "                                                   'transmission',\n",
       "                                                   'drivetrain'])])),\n",
       "                ('linearregression', LinearRegression())])"
      ]
     },
     "execution_count": 85,
     "metadata": {},
     "output_type": "execute_result"
    }
   ],
   "source": [
    "pipe.fit(X_train,y_train)"
   ]
  },
  {
   "cell_type": "code",
   "execution_count": 86,
   "id": "0c2a5213",
   "metadata": {},
   "outputs": [],
   "source": [
    "y_pred = pipe.predict(X_test)"
   ]
  },
  {
   "cell_type": "code",
   "execution_count": 94,
   "id": "7c2e562a",
   "metadata": {},
   "outputs": [
    {
     "data": {
      "text/plain": [
       "0.8584857524662726"
      ]
     },
     "execution_count": 94,
     "metadata": {},
     "output_type": "execute_result"
    }
   ],
   "source": [
    "r2_score(y_test,y_pred)"
   ]
  },
  {
   "cell_type": "code",
   "execution_count": 96,
   "id": "ea7132d8",
   "metadata": {},
   "outputs": [
    {
     "data": {
      "text/plain": [
       "['pipe_model.pkl']"
      ]
     },
     "execution_count": 96,
     "metadata": {},
     "output_type": "execute_result"
    }
   ],
   "source": [
    "joblib.dump(pipe, 'pipe_model.pkl')"
   ]
  },
  {
   "cell_type": "code",
   "execution_count": 104,
   "id": "74fbc3aa",
   "metadata": {},
   "outputs": [
    {
     "data": {
      "text/plain": [
       "array([7006.95882695])"
      ]
     },
     "execution_count": 104,
     "metadata": {},
     "output_type": "execute_result"
    }
   ],
   "source": [
    "pipe.predict(pd.DataFrame([[1999,'Subaru','Impreza','Wagon','Automatic',90000,'AWD',23,150000]], columns = ['year','make','model','bodytype','transmission','odometer','drivetrain','age','annual_km']))"
   ]
  },
  {
   "cell_type": "code",
   "execution_count": null,
   "id": "aae4ad7a",
   "metadata": {},
   "outputs": [],
   "source": []
  }
 ],
 "metadata": {
  "kernelspec": {
   "display_name": "Python 3 (ipykernel)",
   "language": "python",
   "name": "python3"
  },
  "language_info": {
   "codemirror_mode": {
    "name": "ipython",
    "version": 3
   },
   "file_extension": ".py",
   "mimetype": "text/x-python",
   "name": "python",
   "nbconvert_exporter": "python",
   "pygments_lexer": "ipython3",
   "version": "3.9.7"
  }
 },
 "nbformat": 4,
 "nbformat_minor": 5
}
